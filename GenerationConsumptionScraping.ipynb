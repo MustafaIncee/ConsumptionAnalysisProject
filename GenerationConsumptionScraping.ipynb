{
 "cells": [
  {
   "cell_type": "code",
   "execution_count": 1,
   "id": "fbd2bfaf",
   "metadata": {},
   "outputs": [],
   "source": [
    "import requests\n",
    "import pandas as pd\n",
    "from datetime import datetime, timedelta\n"
   ]
  },
  {
   "cell_type": "code",
   "execution_count": 3,
   "id": "cb0c333f",
   "metadata": {},
   "outputs": [
    {
     "ename": "ConnectionError",
     "evalue": "HTTPSConnectionPool(host='giris.epias.com.tr', port=443): Max retries exceeded with url: /cas/v1/tickets (Caused by NameResolutionError(\"<urllib3.connection.HTTPSConnection object at 0x13c32e280>: Failed to resolve 'giris.epias.com.tr' ([Errno 8] nodename nor servname provided, or not known)\"))",
     "output_type": "error",
     "traceback": [
      "\u001b[0;31m---------------------------------------------------------------------------\u001b[0m",
      "\u001b[0;31mgaierror\u001b[0m                                  Traceback (most recent call last)",
      "File \u001b[0;32m/opt/anaconda3/envs/nlp/lib/python3.8/site-packages/urllib3/connection.py:199\u001b[0m, in \u001b[0;36mHTTPConnection._new_conn\u001b[0;34m(self)\u001b[0m\n\u001b[1;32m    198\u001b[0m \u001b[38;5;28;01mtry\u001b[39;00m:\n\u001b[0;32m--> 199\u001b[0m     sock \u001b[38;5;241m=\u001b[39m \u001b[43mconnection\u001b[49m\u001b[38;5;241;43m.\u001b[39;49m\u001b[43mcreate_connection\u001b[49m\u001b[43m(\u001b[49m\n\u001b[1;32m    200\u001b[0m \u001b[43m        \u001b[49m\u001b[43m(\u001b[49m\u001b[38;5;28;43mself\u001b[39;49m\u001b[38;5;241;43m.\u001b[39;49m\u001b[43m_dns_host\u001b[49m\u001b[43m,\u001b[49m\u001b[43m \u001b[49m\u001b[38;5;28;43mself\u001b[39;49m\u001b[38;5;241;43m.\u001b[39;49m\u001b[43mport\u001b[49m\u001b[43m)\u001b[49m\u001b[43m,\u001b[49m\n\u001b[1;32m    201\u001b[0m \u001b[43m        \u001b[49m\u001b[38;5;28;43mself\u001b[39;49m\u001b[38;5;241;43m.\u001b[39;49m\u001b[43mtimeout\u001b[49m\u001b[43m,\u001b[49m\n\u001b[1;32m    202\u001b[0m \u001b[43m        \u001b[49m\u001b[43msource_address\u001b[49m\u001b[38;5;241;43m=\u001b[39;49m\u001b[38;5;28;43mself\u001b[39;49m\u001b[38;5;241;43m.\u001b[39;49m\u001b[43msource_address\u001b[49m\u001b[43m,\u001b[49m\n\u001b[1;32m    203\u001b[0m \u001b[43m        \u001b[49m\u001b[43msocket_options\u001b[49m\u001b[38;5;241;43m=\u001b[39;49m\u001b[38;5;28;43mself\u001b[39;49m\u001b[38;5;241;43m.\u001b[39;49m\u001b[43msocket_options\u001b[49m\u001b[43m,\u001b[49m\n\u001b[1;32m    204\u001b[0m \u001b[43m    \u001b[49m\u001b[43m)\u001b[49m\n\u001b[1;32m    205\u001b[0m \u001b[38;5;28;01mexcept\u001b[39;00m socket\u001b[38;5;241m.\u001b[39mgaierror \u001b[38;5;28;01mas\u001b[39;00m e:\n",
      "File \u001b[0;32m/opt/anaconda3/envs/nlp/lib/python3.8/site-packages/urllib3/util/connection.py:60\u001b[0m, in \u001b[0;36mcreate_connection\u001b[0;34m(address, timeout, source_address, socket_options)\u001b[0m\n\u001b[1;32m     58\u001b[0m     \u001b[38;5;28;01mraise\u001b[39;00m LocationParseError(\u001b[38;5;124mf\u001b[39m\u001b[38;5;124m\"\u001b[39m\u001b[38;5;124m'\u001b[39m\u001b[38;5;132;01m{\u001b[39;00mhost\u001b[38;5;132;01m}\u001b[39;00m\u001b[38;5;124m'\u001b[39m\u001b[38;5;124m, label empty or too long\u001b[39m\u001b[38;5;124m\"\u001b[39m) \u001b[38;5;28;01mfrom\u001b[39;00m \u001b[38;5;28;01mNone\u001b[39;00m\n\u001b[0;32m---> 60\u001b[0m \u001b[38;5;28;01mfor\u001b[39;00m res \u001b[38;5;129;01min\u001b[39;00m \u001b[43msocket\u001b[49m\u001b[38;5;241;43m.\u001b[39;49m\u001b[43mgetaddrinfo\u001b[49m\u001b[43m(\u001b[49m\u001b[43mhost\u001b[49m\u001b[43m,\u001b[49m\u001b[43m \u001b[49m\u001b[43mport\u001b[49m\u001b[43m,\u001b[49m\u001b[43m \u001b[49m\u001b[43mfamily\u001b[49m\u001b[43m,\u001b[49m\u001b[43m \u001b[49m\u001b[43msocket\u001b[49m\u001b[38;5;241;43m.\u001b[39;49m\u001b[43mSOCK_STREAM\u001b[49m\u001b[43m)\u001b[49m:\n\u001b[1;32m     61\u001b[0m     af, socktype, proto, canonname, sa \u001b[38;5;241m=\u001b[39m res\n",
      "File \u001b[0;32m/opt/anaconda3/envs/nlp/lib/python3.8/socket.py:930\u001b[0m, in \u001b[0;36mgetaddrinfo\u001b[0;34m(host, port, family, type, proto, flags)\u001b[0m\n\u001b[1;32m    929\u001b[0m addrlist \u001b[38;5;241m=\u001b[39m []\n\u001b[0;32m--> 930\u001b[0m \u001b[38;5;28;01mfor\u001b[39;00m res \u001b[38;5;129;01min\u001b[39;00m \u001b[43m_socket\u001b[49m\u001b[38;5;241;43m.\u001b[39;49m\u001b[43mgetaddrinfo\u001b[49m\u001b[43m(\u001b[49m\u001b[43mhost\u001b[49m\u001b[43m,\u001b[49m\u001b[43m \u001b[49m\u001b[43mport\u001b[49m\u001b[43m,\u001b[49m\u001b[43m \u001b[49m\u001b[43mfamily\u001b[49m\u001b[43m,\u001b[49m\u001b[43m \u001b[49m\u001b[38;5;28;43mtype\u001b[39;49m\u001b[43m,\u001b[49m\u001b[43m \u001b[49m\u001b[43mproto\u001b[49m\u001b[43m,\u001b[49m\u001b[43m \u001b[49m\u001b[43mflags\u001b[49m\u001b[43m)\u001b[49m:\n\u001b[1;32m    931\u001b[0m     af, socktype, proto, canonname, sa \u001b[38;5;241m=\u001b[39m res\n",
      "\u001b[0;31mgaierror\u001b[0m: [Errno 8] nodename nor servname provided, or not known",
      "\nThe above exception was the direct cause of the following exception:\n",
      "\u001b[0;31mNameResolutionError\u001b[0m                       Traceback (most recent call last)",
      "File \u001b[0;32m/opt/anaconda3/envs/nlp/lib/python3.8/site-packages/urllib3/connectionpool.py:789\u001b[0m, in \u001b[0;36mHTTPConnectionPool.urlopen\u001b[0;34m(self, method, url, body, headers, retries, redirect, assert_same_host, timeout, pool_timeout, release_conn, chunked, body_pos, preload_content, decode_content, **response_kw)\u001b[0m\n\u001b[1;32m    788\u001b[0m \u001b[38;5;66;03m# Make the request on the HTTPConnection object\u001b[39;00m\n\u001b[0;32m--> 789\u001b[0m response \u001b[38;5;241m=\u001b[39m \u001b[38;5;28;43mself\u001b[39;49m\u001b[38;5;241;43m.\u001b[39;49m\u001b[43m_make_request\u001b[49m\u001b[43m(\u001b[49m\n\u001b[1;32m    790\u001b[0m \u001b[43m    \u001b[49m\u001b[43mconn\u001b[49m\u001b[43m,\u001b[49m\n\u001b[1;32m    791\u001b[0m \u001b[43m    \u001b[49m\u001b[43mmethod\u001b[49m\u001b[43m,\u001b[49m\n\u001b[1;32m    792\u001b[0m \u001b[43m    \u001b[49m\u001b[43murl\u001b[49m\u001b[43m,\u001b[49m\n\u001b[1;32m    793\u001b[0m \u001b[43m    \u001b[49m\u001b[43mtimeout\u001b[49m\u001b[38;5;241;43m=\u001b[39;49m\u001b[43mtimeout_obj\u001b[49m\u001b[43m,\u001b[49m\n\u001b[1;32m    794\u001b[0m \u001b[43m    \u001b[49m\u001b[43mbody\u001b[49m\u001b[38;5;241;43m=\u001b[39;49m\u001b[43mbody\u001b[49m\u001b[43m,\u001b[49m\n\u001b[1;32m    795\u001b[0m \u001b[43m    \u001b[49m\u001b[43mheaders\u001b[49m\u001b[38;5;241;43m=\u001b[39;49m\u001b[43mheaders\u001b[49m\u001b[43m,\u001b[49m\n\u001b[1;32m    796\u001b[0m \u001b[43m    \u001b[49m\u001b[43mchunked\u001b[49m\u001b[38;5;241;43m=\u001b[39;49m\u001b[43mchunked\u001b[49m\u001b[43m,\u001b[49m\n\u001b[1;32m    797\u001b[0m \u001b[43m    \u001b[49m\u001b[43mretries\u001b[49m\u001b[38;5;241;43m=\u001b[39;49m\u001b[43mretries\u001b[49m\u001b[43m,\u001b[49m\n\u001b[1;32m    798\u001b[0m \u001b[43m    \u001b[49m\u001b[43mresponse_conn\u001b[49m\u001b[38;5;241;43m=\u001b[39;49m\u001b[43mresponse_conn\u001b[49m\u001b[43m,\u001b[49m\n\u001b[1;32m    799\u001b[0m \u001b[43m    \u001b[49m\u001b[43mpreload_content\u001b[49m\u001b[38;5;241;43m=\u001b[39;49m\u001b[43mpreload_content\u001b[49m\u001b[43m,\u001b[49m\n\u001b[1;32m    800\u001b[0m \u001b[43m    \u001b[49m\u001b[43mdecode_content\u001b[49m\u001b[38;5;241;43m=\u001b[39;49m\u001b[43mdecode_content\u001b[49m\u001b[43m,\u001b[49m\n\u001b[1;32m    801\u001b[0m \u001b[43m    \u001b[49m\u001b[38;5;241;43m*\u001b[39;49m\u001b[38;5;241;43m*\u001b[39;49m\u001b[43mresponse_kw\u001b[49m\u001b[43m,\u001b[49m\n\u001b[1;32m    802\u001b[0m \u001b[43m\u001b[49m\u001b[43m)\u001b[49m\n\u001b[1;32m    804\u001b[0m \u001b[38;5;66;03m# Everything went great!\u001b[39;00m\n",
      "File \u001b[0;32m/opt/anaconda3/envs/nlp/lib/python3.8/site-packages/urllib3/connectionpool.py:490\u001b[0m, in \u001b[0;36mHTTPConnectionPool._make_request\u001b[0;34m(self, conn, method, url, body, headers, retries, timeout, chunked, response_conn, preload_content, decode_content, enforce_content_length)\u001b[0m\n\u001b[1;32m    489\u001b[0m         new_e \u001b[38;5;241m=\u001b[39m _wrap_proxy_error(new_e, conn\u001b[38;5;241m.\u001b[39mproxy\u001b[38;5;241m.\u001b[39mscheme)\n\u001b[0;32m--> 490\u001b[0m     \u001b[38;5;28;01mraise\u001b[39;00m new_e\n\u001b[1;32m    492\u001b[0m \u001b[38;5;66;03m# conn.request() calls http.client.*.request, not the method in\u001b[39;00m\n\u001b[1;32m    493\u001b[0m \u001b[38;5;66;03m# urllib3.request. It also calls makefile (recv) on the socket.\u001b[39;00m\n",
      "File \u001b[0;32m/opt/anaconda3/envs/nlp/lib/python3.8/site-packages/urllib3/connectionpool.py:466\u001b[0m, in \u001b[0;36mHTTPConnectionPool._make_request\u001b[0;34m(self, conn, method, url, body, headers, retries, timeout, chunked, response_conn, preload_content, decode_content, enforce_content_length)\u001b[0m\n\u001b[1;32m    465\u001b[0m \u001b[38;5;28;01mtry\u001b[39;00m:\n\u001b[0;32m--> 466\u001b[0m     \u001b[38;5;28;43mself\u001b[39;49m\u001b[38;5;241;43m.\u001b[39;49m\u001b[43m_validate_conn\u001b[49m\u001b[43m(\u001b[49m\u001b[43mconn\u001b[49m\u001b[43m)\u001b[49m\n\u001b[1;32m    467\u001b[0m \u001b[38;5;28;01mexcept\u001b[39;00m (SocketTimeout, BaseSSLError) \u001b[38;5;28;01mas\u001b[39;00m e:\n",
      "File \u001b[0;32m/opt/anaconda3/envs/nlp/lib/python3.8/site-packages/urllib3/connectionpool.py:1095\u001b[0m, in \u001b[0;36mHTTPSConnectionPool._validate_conn\u001b[0;34m(self, conn)\u001b[0m\n\u001b[1;32m   1094\u001b[0m \u001b[38;5;28;01mif\u001b[39;00m conn\u001b[38;5;241m.\u001b[39mis_closed:\n\u001b[0;32m-> 1095\u001b[0m     \u001b[43mconn\u001b[49m\u001b[38;5;241;43m.\u001b[39;49m\u001b[43mconnect\u001b[49m\u001b[43m(\u001b[49m\u001b[43m)\u001b[49m\n\u001b[1;32m   1097\u001b[0m \u001b[38;5;66;03m# TODO revise this, see https://github.com/urllib3/urllib3/issues/2791\u001b[39;00m\n",
      "File \u001b[0;32m/opt/anaconda3/envs/nlp/lib/python3.8/site-packages/urllib3/connection.py:693\u001b[0m, in \u001b[0;36mHTTPSConnection.connect\u001b[0;34m(self)\u001b[0m\n\u001b[1;32m    692\u001b[0m sock: socket\u001b[38;5;241m.\u001b[39msocket \u001b[38;5;241m|\u001b[39m ssl\u001b[38;5;241m.\u001b[39mSSLSocket\n\u001b[0;32m--> 693\u001b[0m \u001b[38;5;28mself\u001b[39m\u001b[38;5;241m.\u001b[39msock \u001b[38;5;241m=\u001b[39m sock \u001b[38;5;241m=\u001b[39m \u001b[38;5;28;43mself\u001b[39;49m\u001b[38;5;241;43m.\u001b[39;49m\u001b[43m_new_conn\u001b[49m\u001b[43m(\u001b[49m\u001b[43m)\u001b[49m\n\u001b[1;32m    694\u001b[0m server_hostname: \u001b[38;5;28mstr\u001b[39m \u001b[38;5;241m=\u001b[39m \u001b[38;5;28mself\u001b[39m\u001b[38;5;241m.\u001b[39mhost\n",
      "File \u001b[0;32m/opt/anaconda3/envs/nlp/lib/python3.8/site-packages/urllib3/connection.py:206\u001b[0m, in \u001b[0;36mHTTPConnection._new_conn\u001b[0;34m(self)\u001b[0m\n\u001b[1;32m    205\u001b[0m \u001b[38;5;28;01mexcept\u001b[39;00m socket\u001b[38;5;241m.\u001b[39mgaierror \u001b[38;5;28;01mas\u001b[39;00m e:\n\u001b[0;32m--> 206\u001b[0m     \u001b[38;5;28;01mraise\u001b[39;00m NameResolutionError(\u001b[38;5;28mself\u001b[39m\u001b[38;5;241m.\u001b[39mhost, \u001b[38;5;28mself\u001b[39m, e) \u001b[38;5;28;01mfrom\u001b[39;00m \u001b[38;5;21;01me\u001b[39;00m\n\u001b[1;32m    207\u001b[0m \u001b[38;5;28;01mexcept\u001b[39;00m SocketTimeout \u001b[38;5;28;01mas\u001b[39;00m e:\n",
      "\u001b[0;31mNameResolutionError\u001b[0m: <urllib3.connection.HTTPSConnection object at 0x13c32e280>: Failed to resolve 'giris.epias.com.tr' ([Errno 8] nodename nor servname provided, or not known)",
      "\nThe above exception was the direct cause of the following exception:\n",
      "\u001b[0;31mMaxRetryError\u001b[0m                             Traceback (most recent call last)",
      "File \u001b[0;32m/opt/anaconda3/envs/nlp/lib/python3.8/site-packages/requests/adapters.py:667\u001b[0m, in \u001b[0;36mHTTPAdapter.send\u001b[0;34m(self, request, stream, timeout, verify, cert, proxies)\u001b[0m\n\u001b[1;32m    666\u001b[0m \u001b[38;5;28;01mtry\u001b[39;00m:\n\u001b[0;32m--> 667\u001b[0m     resp \u001b[38;5;241m=\u001b[39m \u001b[43mconn\u001b[49m\u001b[38;5;241;43m.\u001b[39;49m\u001b[43murlopen\u001b[49m\u001b[43m(\u001b[49m\n\u001b[1;32m    668\u001b[0m \u001b[43m        \u001b[49m\u001b[43mmethod\u001b[49m\u001b[38;5;241;43m=\u001b[39;49m\u001b[43mrequest\u001b[49m\u001b[38;5;241;43m.\u001b[39;49m\u001b[43mmethod\u001b[49m\u001b[43m,\u001b[49m\n\u001b[1;32m    669\u001b[0m \u001b[43m        \u001b[49m\u001b[43murl\u001b[49m\u001b[38;5;241;43m=\u001b[39;49m\u001b[43murl\u001b[49m\u001b[43m,\u001b[49m\n\u001b[1;32m    670\u001b[0m \u001b[43m        \u001b[49m\u001b[43mbody\u001b[49m\u001b[38;5;241;43m=\u001b[39;49m\u001b[43mrequest\u001b[49m\u001b[38;5;241;43m.\u001b[39;49m\u001b[43mbody\u001b[49m\u001b[43m,\u001b[49m\n\u001b[1;32m    671\u001b[0m \u001b[43m        \u001b[49m\u001b[43mheaders\u001b[49m\u001b[38;5;241;43m=\u001b[39;49m\u001b[43mrequest\u001b[49m\u001b[38;5;241;43m.\u001b[39;49m\u001b[43mheaders\u001b[49m\u001b[43m,\u001b[49m\n\u001b[1;32m    672\u001b[0m \u001b[43m        \u001b[49m\u001b[43mredirect\u001b[49m\u001b[38;5;241;43m=\u001b[39;49m\u001b[38;5;28;43;01mFalse\u001b[39;49;00m\u001b[43m,\u001b[49m\n\u001b[1;32m    673\u001b[0m \u001b[43m        \u001b[49m\u001b[43massert_same_host\u001b[49m\u001b[38;5;241;43m=\u001b[39;49m\u001b[38;5;28;43;01mFalse\u001b[39;49;00m\u001b[43m,\u001b[49m\n\u001b[1;32m    674\u001b[0m \u001b[43m        \u001b[49m\u001b[43mpreload_content\u001b[49m\u001b[38;5;241;43m=\u001b[39;49m\u001b[38;5;28;43;01mFalse\u001b[39;49;00m\u001b[43m,\u001b[49m\n\u001b[1;32m    675\u001b[0m \u001b[43m        \u001b[49m\u001b[43mdecode_content\u001b[49m\u001b[38;5;241;43m=\u001b[39;49m\u001b[38;5;28;43;01mFalse\u001b[39;49;00m\u001b[43m,\u001b[49m\n\u001b[1;32m    676\u001b[0m \u001b[43m        \u001b[49m\u001b[43mretries\u001b[49m\u001b[38;5;241;43m=\u001b[39;49m\u001b[38;5;28;43mself\u001b[39;49m\u001b[38;5;241;43m.\u001b[39;49m\u001b[43mmax_retries\u001b[49m\u001b[43m,\u001b[49m\n\u001b[1;32m    677\u001b[0m \u001b[43m        \u001b[49m\u001b[43mtimeout\u001b[49m\u001b[38;5;241;43m=\u001b[39;49m\u001b[43mtimeout\u001b[49m\u001b[43m,\u001b[49m\n\u001b[1;32m    678\u001b[0m \u001b[43m        \u001b[49m\u001b[43mchunked\u001b[49m\u001b[38;5;241;43m=\u001b[39;49m\u001b[43mchunked\u001b[49m\u001b[43m,\u001b[49m\n\u001b[1;32m    679\u001b[0m \u001b[43m    \u001b[49m\u001b[43m)\u001b[49m\n\u001b[1;32m    681\u001b[0m \u001b[38;5;28;01mexcept\u001b[39;00m (ProtocolError, \u001b[38;5;167;01mOSError\u001b[39;00m) \u001b[38;5;28;01mas\u001b[39;00m err:\n",
      "File \u001b[0;32m/opt/anaconda3/envs/nlp/lib/python3.8/site-packages/urllib3/connectionpool.py:843\u001b[0m, in \u001b[0;36mHTTPConnectionPool.urlopen\u001b[0;34m(self, method, url, body, headers, retries, redirect, assert_same_host, timeout, pool_timeout, release_conn, chunked, body_pos, preload_content, decode_content, **response_kw)\u001b[0m\n\u001b[1;32m    841\u001b[0m     new_e \u001b[38;5;241m=\u001b[39m ProtocolError(\u001b[38;5;124m\"\u001b[39m\u001b[38;5;124mConnection aborted.\u001b[39m\u001b[38;5;124m\"\u001b[39m, new_e)\n\u001b[0;32m--> 843\u001b[0m retries \u001b[38;5;241m=\u001b[39m \u001b[43mretries\u001b[49m\u001b[38;5;241;43m.\u001b[39;49m\u001b[43mincrement\u001b[49m\u001b[43m(\u001b[49m\n\u001b[1;32m    844\u001b[0m \u001b[43m    \u001b[49m\u001b[43mmethod\u001b[49m\u001b[43m,\u001b[49m\u001b[43m \u001b[49m\u001b[43murl\u001b[49m\u001b[43m,\u001b[49m\u001b[43m \u001b[49m\u001b[43merror\u001b[49m\u001b[38;5;241;43m=\u001b[39;49m\u001b[43mnew_e\u001b[49m\u001b[43m,\u001b[49m\u001b[43m \u001b[49m\u001b[43m_pool\u001b[49m\u001b[38;5;241;43m=\u001b[39;49m\u001b[38;5;28;43mself\u001b[39;49m\u001b[43m,\u001b[49m\u001b[43m \u001b[49m\u001b[43m_stacktrace\u001b[49m\u001b[38;5;241;43m=\u001b[39;49m\u001b[43msys\u001b[49m\u001b[38;5;241;43m.\u001b[39;49m\u001b[43mexc_info\u001b[49m\u001b[43m(\u001b[49m\u001b[43m)\u001b[49m\u001b[43m[\u001b[49m\u001b[38;5;241;43m2\u001b[39;49m\u001b[43m]\u001b[49m\n\u001b[1;32m    845\u001b[0m \u001b[43m\u001b[49m\u001b[43m)\u001b[49m\n\u001b[1;32m    846\u001b[0m retries\u001b[38;5;241m.\u001b[39msleep()\n",
      "File \u001b[0;32m/opt/anaconda3/envs/nlp/lib/python3.8/site-packages/urllib3/util/retry.py:519\u001b[0m, in \u001b[0;36mRetry.increment\u001b[0;34m(self, method, url, response, error, _pool, _stacktrace)\u001b[0m\n\u001b[1;32m    518\u001b[0m     reason \u001b[38;5;241m=\u001b[39m error \u001b[38;5;129;01mor\u001b[39;00m ResponseError(cause)\n\u001b[0;32m--> 519\u001b[0m     \u001b[38;5;28;01mraise\u001b[39;00m MaxRetryError(_pool, url, reason) \u001b[38;5;28;01mfrom\u001b[39;00m \u001b[38;5;21;01mreason\u001b[39;00m  \u001b[38;5;66;03m# type: ignore[arg-type]\u001b[39;00m\n\u001b[1;32m    521\u001b[0m log\u001b[38;5;241m.\u001b[39mdebug(\u001b[38;5;124m\"\u001b[39m\u001b[38;5;124mIncremented Retry for (url=\u001b[39m\u001b[38;5;124m'\u001b[39m\u001b[38;5;132;01m%s\u001b[39;00m\u001b[38;5;124m'\u001b[39m\u001b[38;5;124m): \u001b[39m\u001b[38;5;132;01m%r\u001b[39;00m\u001b[38;5;124m\"\u001b[39m, url, new_retry)\n",
      "\u001b[0;31mMaxRetryError\u001b[0m: HTTPSConnectionPool(host='giris.epias.com.tr', port=443): Max retries exceeded with url: /cas/v1/tickets (Caused by NameResolutionError(\"<urllib3.connection.HTTPSConnection object at 0x13c32e280>: Failed to resolve 'giris.epias.com.tr' ([Errno 8] nodename nor servname provided, or not known)\"))",
      "\nDuring handling of the above exception, another exception occurred:\n",
      "\u001b[0;31mConnectionError\u001b[0m                           Traceback (most recent call last)",
      "Cell \u001b[0;32mIn[3], line 17\u001b[0m\n\u001b[1;32m     11\u001b[0m headers \u001b[38;5;241m=\u001b[39m {\n\u001b[1;32m     12\u001b[0m     \u001b[38;5;124m\"\u001b[39m\u001b[38;5;124mContent-Type\u001b[39m\u001b[38;5;124m\"\u001b[39m: \u001b[38;5;124m\"\u001b[39m\u001b[38;5;124mapplication/x-www-form-urlencoded\u001b[39m\u001b[38;5;124m\"\u001b[39m,\n\u001b[1;32m     13\u001b[0m     \u001b[38;5;124m\"\u001b[39m\u001b[38;5;124mAccept\u001b[39m\u001b[38;5;124m\"\u001b[39m: \u001b[38;5;124m\"\u001b[39m\u001b[38;5;124mtext/plain\u001b[39m\u001b[38;5;124m\"\u001b[39m  \u001b[38;5;66;03m# TGT'yi doğrudan metin formatında alıyoruz\u001b[39;00m\n\u001b[1;32m     14\u001b[0m }\n\u001b[1;32m     16\u001b[0m \u001b[38;5;66;03m# POST isteği gönderme\u001b[39;00m\n\u001b[0;32m---> 17\u001b[0m response \u001b[38;5;241m=\u001b[39m \u001b[43mrequests\u001b[49m\u001b[38;5;241;43m.\u001b[39;49m\u001b[43mpost\u001b[49m\u001b[43m(\u001b[49m\u001b[43mtgt_url\u001b[49m\u001b[43m,\u001b[49m\u001b[43m \u001b[49m\u001b[43mdata\u001b[49m\u001b[38;5;241;43m=\u001b[39;49m\u001b[43mpayload\u001b[49m\u001b[43m,\u001b[49m\u001b[43m \u001b[49m\u001b[43mheaders\u001b[49m\u001b[38;5;241;43m=\u001b[39;49m\u001b[43mheaders\u001b[49m\u001b[43m)\u001b[49m\n\u001b[1;32m     19\u001b[0m \u001b[38;5;66;03m# Yanıtı kontrol etme\u001b[39;00m\n\u001b[1;32m     20\u001b[0m \u001b[38;5;28;01mif\u001b[39;00m response\u001b[38;5;241m.\u001b[39mstatus_code \u001b[38;5;241m==\u001b[39m \u001b[38;5;241m201\u001b[39m:  \u001b[38;5;66;03m# HTTP 201 Created kontrolü\u001b[39;00m\n",
      "File \u001b[0;32m/opt/anaconda3/envs/nlp/lib/python3.8/site-packages/requests/api.py:115\u001b[0m, in \u001b[0;36mpost\u001b[0;34m(url, data, json, **kwargs)\u001b[0m\n\u001b[1;32m    103\u001b[0m \u001b[38;5;28;01mdef\u001b[39;00m \u001b[38;5;21mpost\u001b[39m(url, data\u001b[38;5;241m=\u001b[39m\u001b[38;5;28;01mNone\u001b[39;00m, json\u001b[38;5;241m=\u001b[39m\u001b[38;5;28;01mNone\u001b[39;00m, \u001b[38;5;241m*\u001b[39m\u001b[38;5;241m*\u001b[39mkwargs):\n\u001b[1;32m    104\u001b[0m \u001b[38;5;250m    \u001b[39m\u001b[38;5;124mr\u001b[39m\u001b[38;5;124;03m\"\"\"Sends a POST request.\u001b[39;00m\n\u001b[1;32m    105\u001b[0m \n\u001b[1;32m    106\u001b[0m \u001b[38;5;124;03m    :param url: URL for the new :class:`Request` object.\u001b[39;00m\n\u001b[0;32m   (...)\u001b[0m\n\u001b[1;32m    112\u001b[0m \u001b[38;5;124;03m    :rtype: requests.Response\u001b[39;00m\n\u001b[1;32m    113\u001b[0m \u001b[38;5;124;03m    \"\"\"\u001b[39;00m\n\u001b[0;32m--> 115\u001b[0m     \u001b[38;5;28;01mreturn\u001b[39;00m \u001b[43mrequest\u001b[49m\u001b[43m(\u001b[49m\u001b[38;5;124;43m\"\u001b[39;49m\u001b[38;5;124;43mpost\u001b[39;49m\u001b[38;5;124;43m\"\u001b[39;49m\u001b[43m,\u001b[49m\u001b[43m \u001b[49m\u001b[43murl\u001b[49m\u001b[43m,\u001b[49m\u001b[43m \u001b[49m\u001b[43mdata\u001b[49m\u001b[38;5;241;43m=\u001b[39;49m\u001b[43mdata\u001b[49m\u001b[43m,\u001b[49m\u001b[43m \u001b[49m\u001b[43mjson\u001b[49m\u001b[38;5;241;43m=\u001b[39;49m\u001b[43mjson\u001b[49m\u001b[43m,\u001b[49m\u001b[43m \u001b[49m\u001b[38;5;241;43m*\u001b[39;49m\u001b[38;5;241;43m*\u001b[39;49m\u001b[43mkwargs\u001b[49m\u001b[43m)\u001b[49m\n",
      "File \u001b[0;32m/opt/anaconda3/envs/nlp/lib/python3.8/site-packages/requests/api.py:59\u001b[0m, in \u001b[0;36mrequest\u001b[0;34m(method, url, **kwargs)\u001b[0m\n\u001b[1;32m     55\u001b[0m \u001b[38;5;66;03m# By using the 'with' statement we are sure the session is closed, thus we\u001b[39;00m\n\u001b[1;32m     56\u001b[0m \u001b[38;5;66;03m# avoid leaving sockets open which can trigger a ResourceWarning in some\u001b[39;00m\n\u001b[1;32m     57\u001b[0m \u001b[38;5;66;03m# cases, and look like a memory leak in others.\u001b[39;00m\n\u001b[1;32m     58\u001b[0m \u001b[38;5;28;01mwith\u001b[39;00m sessions\u001b[38;5;241m.\u001b[39mSession() \u001b[38;5;28;01mas\u001b[39;00m session:\n\u001b[0;32m---> 59\u001b[0m     \u001b[38;5;28;01mreturn\u001b[39;00m \u001b[43msession\u001b[49m\u001b[38;5;241;43m.\u001b[39;49m\u001b[43mrequest\u001b[49m\u001b[43m(\u001b[49m\u001b[43mmethod\u001b[49m\u001b[38;5;241;43m=\u001b[39;49m\u001b[43mmethod\u001b[49m\u001b[43m,\u001b[49m\u001b[43m \u001b[49m\u001b[43murl\u001b[49m\u001b[38;5;241;43m=\u001b[39;49m\u001b[43murl\u001b[49m\u001b[43m,\u001b[49m\u001b[43m \u001b[49m\u001b[38;5;241;43m*\u001b[39;49m\u001b[38;5;241;43m*\u001b[39;49m\u001b[43mkwargs\u001b[49m\u001b[43m)\u001b[49m\n",
      "File \u001b[0;32m/opt/anaconda3/envs/nlp/lib/python3.8/site-packages/requests/sessions.py:589\u001b[0m, in \u001b[0;36mSession.request\u001b[0;34m(self, method, url, params, data, headers, cookies, files, auth, timeout, allow_redirects, proxies, hooks, stream, verify, cert, json)\u001b[0m\n\u001b[1;32m    584\u001b[0m send_kwargs \u001b[38;5;241m=\u001b[39m {\n\u001b[1;32m    585\u001b[0m     \u001b[38;5;124m\"\u001b[39m\u001b[38;5;124mtimeout\u001b[39m\u001b[38;5;124m\"\u001b[39m: timeout,\n\u001b[1;32m    586\u001b[0m     \u001b[38;5;124m\"\u001b[39m\u001b[38;5;124mallow_redirects\u001b[39m\u001b[38;5;124m\"\u001b[39m: allow_redirects,\n\u001b[1;32m    587\u001b[0m }\n\u001b[1;32m    588\u001b[0m send_kwargs\u001b[38;5;241m.\u001b[39mupdate(settings)\n\u001b[0;32m--> 589\u001b[0m resp \u001b[38;5;241m=\u001b[39m \u001b[38;5;28;43mself\u001b[39;49m\u001b[38;5;241;43m.\u001b[39;49m\u001b[43msend\u001b[49m\u001b[43m(\u001b[49m\u001b[43mprep\u001b[49m\u001b[43m,\u001b[49m\u001b[43m \u001b[49m\u001b[38;5;241;43m*\u001b[39;49m\u001b[38;5;241;43m*\u001b[39;49m\u001b[43msend_kwargs\u001b[49m\u001b[43m)\u001b[49m\n\u001b[1;32m    591\u001b[0m \u001b[38;5;28;01mreturn\u001b[39;00m resp\n",
      "File \u001b[0;32m/opt/anaconda3/envs/nlp/lib/python3.8/site-packages/requests/sessions.py:703\u001b[0m, in \u001b[0;36mSession.send\u001b[0;34m(self, request, **kwargs)\u001b[0m\n\u001b[1;32m    700\u001b[0m start \u001b[38;5;241m=\u001b[39m preferred_clock()\n\u001b[1;32m    702\u001b[0m \u001b[38;5;66;03m# Send the request\u001b[39;00m\n\u001b[0;32m--> 703\u001b[0m r \u001b[38;5;241m=\u001b[39m \u001b[43madapter\u001b[49m\u001b[38;5;241;43m.\u001b[39;49m\u001b[43msend\u001b[49m\u001b[43m(\u001b[49m\u001b[43mrequest\u001b[49m\u001b[43m,\u001b[49m\u001b[43m \u001b[49m\u001b[38;5;241;43m*\u001b[39;49m\u001b[38;5;241;43m*\u001b[39;49m\u001b[43mkwargs\u001b[49m\u001b[43m)\u001b[49m\n\u001b[1;32m    705\u001b[0m \u001b[38;5;66;03m# Total elapsed time of the request (approximately)\u001b[39;00m\n\u001b[1;32m    706\u001b[0m elapsed \u001b[38;5;241m=\u001b[39m preferred_clock() \u001b[38;5;241m-\u001b[39m start\n",
      "File \u001b[0;32m/opt/anaconda3/envs/nlp/lib/python3.8/site-packages/requests/adapters.py:700\u001b[0m, in \u001b[0;36mHTTPAdapter.send\u001b[0;34m(self, request, stream, timeout, verify, cert, proxies)\u001b[0m\n\u001b[1;32m    696\u001b[0m     \u001b[38;5;28;01mif\u001b[39;00m \u001b[38;5;28misinstance\u001b[39m(e\u001b[38;5;241m.\u001b[39mreason, _SSLError):\n\u001b[1;32m    697\u001b[0m         \u001b[38;5;66;03m# This branch is for urllib3 v1.22 and later.\u001b[39;00m\n\u001b[1;32m    698\u001b[0m         \u001b[38;5;28;01mraise\u001b[39;00m SSLError(e, request\u001b[38;5;241m=\u001b[39mrequest)\n\u001b[0;32m--> 700\u001b[0m     \u001b[38;5;28;01mraise\u001b[39;00m \u001b[38;5;167;01mConnectionError\u001b[39;00m(e, request\u001b[38;5;241m=\u001b[39mrequest)\n\u001b[1;32m    702\u001b[0m \u001b[38;5;28;01mexcept\u001b[39;00m ClosedPoolError \u001b[38;5;28;01mas\u001b[39;00m e:\n\u001b[1;32m    703\u001b[0m     \u001b[38;5;28;01mraise\u001b[39;00m \u001b[38;5;167;01mConnectionError\u001b[39;00m(e, request\u001b[38;5;241m=\u001b[39mrequest)\n",
      "\u001b[0;31mConnectionError\u001b[0m: HTTPSConnectionPool(host='giris.epias.com.tr', port=443): Max retries exceeded with url: /cas/v1/tickets (Caused by NameResolutionError(\"<urllib3.connection.HTTPSConnection object at 0x13c32e280>: Failed to resolve 'giris.epias.com.tr' ([Errno 8] nodename nor servname provided, or not known)\"))"
     ]
    }
   ],
   "source": [
    "\n",
    "tgt_url = \"https://giris.epias.com.tr/cas/v1/tickets\"\n",
    "\n",
    "payload = {\n",
    "    \"username\": \"\", \n",
    "    \"password\": \"\"                       \n",
    "}\n",
    "\n",
    "headers = {\n",
    "    \"Content-Type\": \"application/x-www-form-urlencoded\",\n",
    "    \"Accept\": \"text/plain\"  \n",
    "}\n",
    "\n",
    "response = requests.post(tgt_url, data=payload, headers=headers)\n",
    "\n",
    "if response.status_code == 201: \n",
    "    tgt = response.text.strip()\n",
    "    print(f\"TGT başarıyla alındı: {tgt}\")\n",
    "else:\n",
    "    print(f\"TGT alınırken hata oluştu! HTTP Kodu: {response.status_code}\")\n",
    "    print(response.text)\n"
   ]
  },
  {
   "cell_type": "code",
   "execution_count": 40,
   "id": "17f08c35",
   "metadata": {},
   "outputs": [
    {
     "name": "stdout",
     "output_type": "stream",
     "text": [
      "Veri çekildi: 2018-12-01 - 2019-01-30\n",
      "Veri çekildi: 2019-01-30 - 2019-03-31\n",
      "Veri çekildi: 2019-03-31 - 2019-05-30\n",
      "Veri çekildi: 2019-05-30 - 2019-07-29\n",
      "Veri çekildi: 2019-07-29 - 2019-09-27\n",
      "Veri çekildi: 2019-09-27 - 2019-11-26\n",
      "Veri çekildi: 2019-11-26 - 2020-01-25\n",
      "Veri çekildi: 2020-01-25 - 2020-03-25\n",
      "Veri çekildi: 2020-03-25 - 2020-05-24\n",
      "Veri çekildi: 2020-05-24 - 2020-07-23\n",
      "Veri çekildi: 2020-07-23 - 2020-09-21\n",
      "Veri çekildi: 2020-09-21 - 2020-11-20\n",
      "Veri çekildi: 2020-11-20 - 2021-01-19\n",
      "Veri çekildi: 2021-01-19 - 2021-03-20\n",
      "Veri çekildi: 2021-03-20 - 2021-05-19\n",
      "Veri çekildi: 2021-05-19 - 2021-07-18\n",
      "Veri çekildi: 2021-07-18 - 2021-09-16\n",
      "Veri çekildi: 2021-09-16 - 2021-11-15\n",
      "Veri çekildi: 2021-11-15 - 2022-01-14\n",
      "Veri çekildi: 2022-01-14 - 2022-03-15\n",
      "Veri çekildi: 2022-03-15 - 2022-05-14\n",
      "Veri çekildi: 2022-05-14 - 2022-07-13\n",
      "Veri çekildi: 2022-07-13 - 2022-09-11\n",
      "Veri çekildi: 2022-09-11 - 2022-11-10\n",
      "Veri çekildi: 2022-11-10 - 2023-01-09\n",
      "Veri çekildi: 2023-01-09 - 2023-03-10\n",
      "Veri çekildi: 2023-03-10 - 2023-05-09\n",
      "Veri çekildi: 2023-05-09 - 2023-07-08\n",
      "Veri çekildi: 2023-07-08 - 2023-09-06\n",
      "Veri çekildi: 2023-09-06 - 2023-11-05\n",
      "Veri çekildi: 2023-11-05 - 2024-01-04\n",
      "Veri çekildi: 2024-01-04 - 2024-03-04\n",
      "Veri çekildi: 2024-03-04 - 2024-05-03\n",
      "Veri çekildi: 2024-05-03 - 2024-07-02\n",
      "Veri çekildi: 2024-07-02 - 2024-08-31\n",
      "Veri çekildi: 2024-08-31 - 2024-10-30\n",
      "Veri çekildi: 2024-10-30 - 2024-12-01\n",
      "Tüm veriler realtime_generation_data.csv dosyasına kaydedildi.\n"
     ]
    }
   ],
   "source": [
    "realtime_generation_url = \"https://seffaflik.epias.com.tr/electricity-service/v1/generation/data/realtime-generation\"\n",
    "\n",
    "headers = {\n",
    "    \"Accept-Language\": \"en\",\n",
    "    \"Accept\": \"application/json\",\n",
    "    \"Content-Type\": \"application/json\",\n",
    "    \"TGT\": \"TGT-7240610-Uzjjk3WTGelX9XtMDBA2qqW3KUNXffMuyLdH9d8hzwD7-0-p1XNFrIm3STVCjErMXb0-cas-7bc549fccd-9hbsh\"\n",
    "}\n",
    "\n",
    "start_date = datetime(2018, 12, 1)  \n",
    "end_date = datetime(2024, 12, 1)    \n",
    "step = timedelta(days=60)         \n",
    "\n",
    "all_data = pd.DataFrame()\n",
    "\n",
    "current_start = start_date\n",
    "while current_start < end_date:\n",
    "    current_end = current_start + step\n",
    "    if current_end > end_date:\n",
    "        current_end = end_date  \n",
    "    \n",
    "    body = {\n",
    "        \"startDate\": current_start.strftime(\"%Y-%m-%dT%H:%M:%S+03:00\"),\n",
    "        \"endDate\": current_end.strftime(\"%Y-%m-%dT%H:%M:%S+03:00\")\n",
    "    }\n",
    "\n",
    "    response = requests.post(realtime_generation_url, headers=headers, json=body)\n",
    "    \n",
    "    if response.status_code == 200:\n",
    "        print(f\"Veri çekildi: {current_start.date()} - {current_end.date()}\")\n",
    "        data = response.json()\n",
    "        \n",
    "        df = pd.DataFrame(data['items'])\n",
    "        \n",
    "        df['Tarih'] = pd.to_datetime(df['date']).dt.strftime('%d.%m.%Y')\n",
    "        df.drop(columns=['date'], inplace=True)\n",
    "        \n",
    "        all_data = pd.concat([all_data, df], ignore_index=True)\n",
    "    else:\n",
    "        print(f\"Veri çekilemedi: {current_start.date()} - {current_end.date()}, Hata: {response.text}\")\n",
    "    \n",
    "    current_start = current_end\n",
    "\n",
    "csv_file = \"realtime_generation_data.csv\"\n",
    "all_data.to_csv(csv_file, index=False, encoding='utf-8-sig')\n",
    "print(f\"Tüm veriler {csv_file} dosyasına kaydedildi.\")"
   ]
  },
  {
   "cell_type": "code",
   "execution_count": 41,
   "id": "baae7758",
   "metadata": {},
   "outputs": [
    {
     "name": "stdout",
     "output_type": "stream",
     "text": [
      "Toplam çakışan kayıt sayısı: 1728\n",
      "Çakışan kayıtlar:\n",
      "        hour     total  naturalGas  dammedHydro  lignite    river  importCoal  \\\n",
      "49752  00:00  41899.84    10524.24      7399.78  5036.86  1829.25     9281.02   \n",
      "49776  00:00  41899.84    10524.24      7399.78  5036.86  1829.25     9281.02   \n",
      "49753  01:00  40098.43    10690.64      5825.20  5061.39  1644.83     9315.38   \n",
      "49777  01:00  40098.43    10690.64      5825.20  5061.39  1644.83     9315.38   \n",
      "49754  02:00  38551.95    10670.43      4546.33  5059.96  1552.45     9325.52   \n",
      "...      ...       ...         ...          ...      ...      ...         ...   \n",
      "51261  21:00  41920.25    11757.66      6996.70  5083.43  1395.79    10050.31   \n",
      "51238  22:00  40243.11    11037.05      6501.74  5053.25  1218.64    10033.96   \n",
      "51262  22:00  40243.11    11037.05      6501.74  5053.25  1218.64    10033.96   \n",
      "51239  23:00  38850.57    10436.83      6094.28  5058.04  1228.16    10053.43   \n",
      "51263  23:00  38850.57    10436.83      6094.28  5058.04  1228.16    10053.43   \n",
      "\n",
      "          wind   sun  fueloil  geothermal  asphaltiteCoal  blackCoal  biomass  \\\n",
      "49752  4798.72  0.01    93.11     1052.42            0.00     598.30   985.64   \n",
      "49776  4798.72  0.01    93.11     1052.42            0.00     598.30   985.64   \n",
      "49753  4533.01  0.01    92.71     1074.94            0.00     601.17   966.52   \n",
      "49777  4533.01  0.01    92.71     1074.94            0.00     601.17   966.52   \n",
      "49754  4316.26  0.01    92.31     1095.27            0.00     596.12   980.91   \n",
      "...        ...   ...      ...         ...             ...        ...      ...   \n",
      "51261  3696.99  0.01    88.28     1106.73          211.96     579.64   962.55   \n",
      "51238  3360.38  0.01    87.79     1124.74          211.96     573.81   981.15   \n",
      "51262  3360.38  0.01    87.79     1124.74          211.96     573.81   981.15   \n",
      "51239  2899.77  0.01    87.37     1142.47          207.54     576.77   982.98   \n",
      "51263  2899.77  0.01    87.37     1142.47          207.54     576.77   982.98   \n",
      "\n",
      "       naphta  lng  importExport  wasteheat       Tarih  \n",
      "49752       0    0        219.09      81.40  02.07.2024  \n",
      "49776       0    0        219.09      81.40  02.07.2024  \n",
      "49753       0    0        209.61      83.02  02.07.2024  \n",
      "49777       0    0        209.61      83.02  02.07.2024  \n",
      "49754       0    0        229.67      86.71  02.07.2024  \n",
      "...       ...  ...           ...        ...         ...  \n",
      "51261       0    0        -94.14      84.34  31.08.2024  \n",
      "51238       0    0        -22.00      80.63  31.08.2024  \n",
      "51262       0    0        -22.00      80.63  31.08.2024  \n",
      "51239       0    0          0.00      82.92  31.08.2024  \n",
      "51263       0    0          0.00      82.92  31.08.2024  \n",
      "\n",
      "[1728 rows x 19 columns]\n"
     ]
    }
   ],
   "source": [
    "duplicates = all_data[all_data.duplicated(subset=['Tarih', 'hour'], keep=False)]\n",
    "\n",
    "if not duplicates.empty:\n",
    "    print(f\"Toplam çakışan kayıt sayısı: {duplicates.shape[0]}\")\n",
    "    print(\"Çakışan kayıtlar:\")\n",
    "    print(duplicates.sort_values(by=['Tarih', 'hour']))\n",
    "else:\n",
    "    print(\"Tarih ve saatlerde çakışma yok.\")\n"
   ]
  },
  {
   "cell_type": "code",
   "execution_count": 42,
   "id": "e5c1f812",
   "metadata": {},
   "outputs": [
    {
     "name": "stdout",
     "output_type": "stream",
     "text": [
      "Çakışan kayıt sayısı: 1728\n",
      "Benzersiz veriler realtime_generation_data.csv dosyasına kaydedildi.\n"
     ]
    }
   ],
   "source": [
    "duplicates = all_data[all_data.duplicated(subset=['Tarih', 'hour'], keep=False)]\n",
    "if not duplicates.empty:\n",
    "    print(f\"Çakışan kayıt sayısı: {duplicates.shape[0]}\")\n",
    "else:\n",
    "    print(\"Çakışan kayıt yok.\")\n",
    "\n",
    "unique_data = all_data.drop_duplicates(subset=['Tarih', 'hour'], keep='first')\n",
    "\n",
    "unique_file = \"realtime_generation_data.csv\"\n",
    "unique_data.to_csv(unique_file, index=False, encoding='utf-8-sig')\n",
    "\n",
    "print(f\"Benzersiz veriler {unique_file} dosyasına kaydedildi.\")\n",
    "\n"
   ]
  },
  {
   "cell_type": "code",
   "execution_count": 43,
   "id": "af972901",
   "metadata": {},
   "outputs": [
    {
     "name": "stdout",
     "output_type": "stream",
     "text": [
      "Veriler arasında null değer bulunmuyor\n",
      "hour              0\n",
      "total             0\n",
      "naturalGas        0\n",
      "dammedHydro       0\n",
      "lignite           0\n",
      "river             0\n",
      "importCoal        0\n",
      "wind              0\n",
      "sun               0\n",
      "fueloil           0\n",
      "geothermal        0\n",
      "asphaltiteCoal    0\n",
      "blackCoal         0\n",
      "biomass           0\n",
      "naphta            0\n",
      "lng               0\n",
      "importExport      0\n",
      "wasteheat         0\n",
      "Tarih             0\n",
      "dtype: int64\n"
     ]
    }
   ],
   "source": [
    "import pandas as pd\n",
    "\n",
    "generation_file = \"realtime_generation_data.csv\"  \n",
    "generation_data = pd.read_csv(generation_file)\n",
    "\n",
    "null_counts = generation_data.isnull().sum()\n",
    "\n",
    "null_columns = null_counts[null_counts > 0]\n",
    "if not null_columns.empty:\n",
    "    print(\"Bu sütunlarda null değerler var:\")\n",
    "    print(null_columns)\n",
    "else:\n",
    "    print(\"Veriler arasında null değer bulunmuyor\")\n",
    "    print(null_counts)\n",
    "\n",
    "\n"
   ]
  },
  {
   "cell_type": "code",
   "execution_count": 44,
   "id": "a5c5115d",
   "metadata": {},
   "outputs": [
    {
     "name": "stdout",
     "output_type": "stream",
     "text": [
      "Aşağıdaki sütunlarda negatif değerler bulunuyor:\n",
      "sun                21\n",
      "importExport    25206\n",
      "dtype: int64\n"
     ]
    }
   ],
   "source": [
    "negative_values = generation_data.select_dtypes(include=['number']).lt(0).sum()\n",
    "\n",
    "if negative_values.sum() > 0:\n",
    "    print(\"Aşağıdaki sütunlarda negatif değerler bulunuyor:\")\n",
    "    print(negative_values[negative_values > 0])\n",
    "else:\n",
    "    print(\"Negatif değer bulunmuyor.\")\n"
   ]
  },
  {
   "cell_type": "code",
   "execution_count": 45,
   "id": "08e30087",
   "metadata": {},
   "outputs": [
    {
     "name": "stdout",
     "output_type": "stream",
     "text": [
      "Fark olan satır sayısı: 33\n"
     ]
    }
   ],
   "source": [
    "import pandas as pd\n",
    "\n",
    "file_path = \"realtime_generation_data.csv\"  \n",
    "generation_data = pd.read_csv(file_path)\n",
    "\n",
    "columns_to_sum = generation_data.columns.difference(['Tarih', 'hour', 'total'])\n",
    "\n",
    "generation_data['calculated_total'] = generation_data[columns_to_sum].sum(axis=1)\n",
    "discrepancies = generation_data[generation_data['total'] != generation_data['calculated_total']]\n",
    "\n",
    "large_discrepancies = discrepancies[abs(discrepancies['total'] - discrepancies['calculated_total']) > 0.00001]\n",
    "\n",
    "if not large_discrepancies.empty:\n",
    "    print(f\"Fark olan satır sayısı: {large_discrepancies.shape[0]}\")\n",
    "else:\n",
    "    print(\"Fark olan satır yok.\")\n",
    "\n"
   ]
  },
  {
   "cell_type": "code",
   "execution_count": 46,
   "id": "a79fa30c",
   "metadata": {},
   "outputs": [
    {
     "name": "stdout",
     "output_type": "stream",
     "text": [
      "'total' sütunu, fark bulunan 33 satır için düzeltildi.\n",
      "Düzeltilmiş dosya realtime_generation_data.csv olarak kaydedildi.\n"
     ]
    }
   ],
   "source": [
    "import pandas as pd\n",
    "\n",
    "file_path = \"realtime_generation_data.csv\"  \n",
    "generation_data = pd.read_csv(file_path)\n",
    "\n",
    "columns_to_sum = generation_data.columns.difference(['Tarih', 'hour', 'total'])\n",
    "\n",
    "generation_data['calculated_total'] = generation_data[columns_to_sum].sum(axis=1)\n",
    "\n",
    "large_discrepancies = generation_data[abs(generation_data['total'] - generation_data['calculated_total']) > 0.00001]\n",
    "\n",
    "if not large_discrepancies.empty:\n",
    "    generation_data.loc[\n",
    "        abs(generation_data['total'] - generation_data['calculated_total']) > 0.00001, \n",
    "        'total'\n",
    "    ] = generation_data['calculated_total']\n",
    "    print(f\"'total' sütunu, fark bulunan {large_discrepancies.shape[0]} satır için düzeltildi.\")\n",
    "else:\n",
    "    print(\"Düzeltilecek fark bulunamadı.\")\n",
    "\n",
    "generation_data.drop(columns=['calculated_total'], inplace=True)\n",
    "\n",
    "updated_file_path = \"realtime_generation_data.csv\"\n",
    "generation_data.to_csv(updated_file_path, index=False, encoding='utf-8-sig')\n",
    "\n",
    "print(f\"Düzeltilmiş dosya {updated_file_path} olarak kaydedildi.\")\n"
   ]
  },
  {
   "cell_type": "code",
   "execution_count": 47,
   "id": "2ae23d93",
   "metadata": {},
   "outputs": [
    {
     "name": "stdout",
     "output_type": "stream",
     "text": [
      "Sadece 'total' sütunu kalan veri seti realtime_generation_data.csv dosyasına kaydedildi.\n"
     ]
    }
   ],
   "source": [
    "import pandas as pd\n",
    "\n",
    "file_path = \"realtime_generation_data.csv\" \n",
    "generation_data = pd.read_csv(file_path)\n",
    "\n",
    "total_generation_data = generation_data[['Tarih', 'hour', 'total']]\n",
    "\n",
    "total_only_file = \"realtime_generation_data.csv\"\n",
    "total_generation_data.to_csv(total_only_file, index=False, encoding='utf-8-sig')\n",
    "\n",
    "print(f\"Sadece 'total' sütunu kalan veri seti {total_only_file} dosyasına kaydedildi.\")\n"
   ]
  },
  {
   "cell_type": "code",
   "execution_count": 49,
   "id": "dc032ffe",
   "metadata": {},
   "outputs": [
    {
     "name": "stdout",
     "output_type": "stream",
     "text": [
      "Veri çekildi: 2018-12-01 - 2019-01-30\n",
      "Veri çekildi: 2019-01-30 - 2019-03-31\n",
      "Veri çekildi: 2019-03-31 - 2019-05-30\n",
      "Veri çekildi: 2019-05-30 - 2019-07-29\n",
      "Veri çekildi: 2019-07-29 - 2019-09-27\n",
      "Veri çekildi: 2019-09-27 - 2019-11-26\n",
      "Veri çekildi: 2019-11-26 - 2020-01-25\n",
      "Veri çekildi: 2020-01-25 - 2020-03-25\n",
      "Veri çekildi: 2020-03-25 - 2020-05-24\n",
      "Veri çekildi: 2020-05-24 - 2020-07-23\n",
      "Veri çekildi: 2020-07-23 - 2020-09-21\n",
      "Veri çekildi: 2020-09-21 - 2020-11-20\n",
      "Veri çekildi: 2020-11-20 - 2021-01-19\n",
      "Veri çekildi: 2021-01-19 - 2021-03-20\n",
      "Veri çekildi: 2021-03-20 - 2021-05-19\n",
      "Veri çekildi: 2021-05-19 - 2021-07-18\n",
      "Veri çekildi: 2021-07-18 - 2021-09-16\n",
      "Veri çekildi: 2021-09-16 - 2021-11-15\n",
      "Veri çekildi: 2021-11-15 - 2022-01-14\n",
      "Veri çekildi: 2022-01-14 - 2022-03-15\n",
      "Veri çekildi: 2022-03-15 - 2022-05-14\n",
      "Veri çekildi: 2022-05-14 - 2022-07-13\n",
      "Veri çekildi: 2022-07-13 - 2022-09-11\n",
      "Veri çekildi: 2022-09-11 - 2022-11-10\n",
      "Veri çekildi: 2022-11-10 - 2023-01-09\n",
      "Veri çekildi: 2023-01-09 - 2023-03-10\n",
      "Veri çekildi: 2023-03-10 - 2023-05-09\n",
      "Veri çekildi: 2023-05-09 - 2023-07-08\n",
      "Veri çekildi: 2023-07-08 - 2023-09-06\n",
      "Veri çekildi: 2023-09-06 - 2023-11-05\n",
      "Veri çekildi: 2023-11-05 - 2024-01-04\n",
      "Veri çekildi: 2024-01-04 - 2024-03-04\n",
      "Veri çekildi: 2024-03-04 - 2024-05-03\n",
      "Veri çekildi: 2024-05-03 - 2024-07-02\n",
      "Veri çekildi: 2024-07-02 - 2024-08-31\n",
      "Veri çekildi: 2024-08-31 - 2024-10-30\n",
      "Veri çekildi: 2024-10-30 - 2024-12-01\n",
      "Temizlenmiş tüketim verileri realtime_consumption_data.csv dosyasına kaydedildi.\n"
     ]
    }
   ],
   "source": [
    "import requests\n",
    "import pandas as pd\n",
    "from datetime import datetime, timedelta\n",
    "\n",
    "consumption_url = \"https://seffaflik.epias.com.tr/electricity-service/v1/consumption/data/realtime-consumption\"\n",
    "\n",
    "headers = {\n",
    "    \"Accept-Language\": \"en\",\n",
    "    \"Accept\": \"application/json\",\n",
    "    \"Content-Type\": \"application/json\",\n",
    "    \"TGT\": \"\"\n",
    "}\n",
    "\n",
    "start_date = datetime(2018, 12, 1)  \n",
    "end_date = datetime(2024, 12, 1)    \n",
    "step = timedelta(days=60)         \n",
    "\n",
    "all_data = pd.DataFrame()\n",
    "\n",
    "current_start = start_date\n",
    "while current_start < end_date:\n",
    "    current_end = current_start + step\n",
    "    if current_end > end_date:\n",
    "        current_end = end_date\n",
    "\n",
    "    body = {\n",
    "        \"startDate\": current_start.strftime(\"%Y-%m-%dT%H:%M:%S+03:00\"),\n",
    "        \"endDate\": current_end.strftime(\"%Y-%m-%dT%H:%M:%S+03:00\")\n",
    "    }\n",
    "\n",
    "    response = requests.post(consumption_url, headers=headers, json=body)\n",
    "\n",
    "    if response.status_code == 200:\n",
    "        print(f\"Veri çekildi: {current_start.date()} - {current_end.date()}\")\n",
    "        data = response.json()\n",
    "\n",
    "        df = pd.DataFrame(data['items'])\n",
    "\n",
    "        df['Tarih'] = pd.to_datetime(df['date']).dt.strftime('%d.%m.%Y')\n",
    "        df['hour'] = pd.to_datetime(df['date']).dt.strftime('%H:%M')\n",
    "        df.drop(columns=['date', 'time'], errors='ignore', inplace=True)  \n",
    "\n",
    "        all_data = pd.concat([all_data, df], ignore_index=True)\n",
    "    else:\n",
    "        print(f\"Veri çekilemedi: {current_start.date()} - {current_end.date()}, Hata: {response.text}\")\n",
    "\n",
    "    current_start = current_end\n",
    "\n",
    "csv_file = \"realtime_consumption_data.csv\"\n",
    "all_data.to_csv(csv_file, index=False, encoding='utf-8-sig')\n",
    "print(f\"Temizlenmiş tüketim verileri {csv_file} dosyasına kaydedildi.\")\n"
   ]
  },
  {
   "cell_type": "code",
   "execution_count": 53,
   "id": "6956e689",
   "metadata": {},
   "outputs": [
    {
     "name": "stdout",
     "output_type": "stream",
     "text": [
      "Toplam çakışan kayıt sayısı: 1728\n",
      "Çakışan kayıtlar:\n",
      "       consumption       Tarih   hour\n",
      "49752     41929.91  02.07.2024  00:00\n",
      "49776     41929.91  02.07.2024  00:00\n",
      "49753     40124.03  02.07.2024  01:00\n",
      "49777     40124.03  02.07.2024  01:00\n",
      "49754     38578.77  02.07.2024  02:00\n",
      "...            ...         ...    ...\n",
      "51261     41920.25  31.08.2024  21:00\n",
      "51238     40243.11  31.08.2024  22:00\n",
      "51262     40243.11  31.08.2024  22:00\n",
      "51239     38801.92  31.08.2024  23:00\n",
      "51263     38801.92  31.08.2024  23:00\n",
      "\n",
      "[1728 rows x 3 columns]\n"
     ]
    }
   ],
   "source": [
    "duplicates = all_data[all_data.duplicated(subset=['Tarih', 'hour'], keep=False)]\n",
    "\n",
    "if not duplicates.empty:\n",
    "    print(f\"Toplam çakışan kayıt sayısı: {duplicates.shape[0]}\")\n",
    "    print(\"Çakışan kayıtlar:\")\n",
    "    print(duplicates.sort_values(by=['Tarih', 'hour']))\n",
    "else:\n",
    "    print(\"Tarih ve saatlerde çakışma yok.\")\n",
    "\n"
   ]
  },
  {
   "cell_type": "code",
   "execution_count": 54,
   "id": "99b32b36",
   "metadata": {},
   "outputs": [
    {
     "name": "stdout",
     "output_type": "stream",
     "text": [
      "Çakışan kayıt sayısı: 1728\n",
      "Benzersiz veriler realtime_consumption_data.csv dosyasına kaydedildi.\n"
     ]
    }
   ],
   "source": [
    "duplicates = all_data[all_data.duplicated(subset=['Tarih', 'hour'], keep=False)]\n",
    "if not duplicates.empty:\n",
    "    print(f\"Çakışan kayıt sayısı: {duplicates.shape[0]}\")\n",
    "else:\n",
    "    print(\"Çakışan kayıt yok.\")\n",
    "\n",
    "unique_data = all_data.drop_duplicates(subset=['Tarih', 'hour'], keep='first')\n",
    "\n",
    "unique_file = \"realtime_consumption_data.csv\"\n",
    "unique_data.to_csv(unique_file, index=False, encoding='utf-8-sig')\n",
    "\n",
    "print(f\"Benzersiz veriler {unique_file} dosyasına kaydedildi.\")\n"
   ]
  },
  {
   "cell_type": "code",
   "execution_count": 55,
   "id": "2b8c4677",
   "metadata": {},
   "outputs": [
    {
     "name": "stdout",
     "output_type": "stream",
     "text": [
      "Veriler arasında null değer bulunmuyor\n",
      "consumption    0\n",
      "Tarih          0\n",
      "hour           0\n",
      "dtype: int64\n"
     ]
    }
   ],
   "source": [
    "import pandas as pd\n",
    "\n",
    "generation_file = \"realtime_consumption_data.csv\"  \n",
    "generation_data = pd.read_csv(generation_file)\n",
    "\n",
    "null_counts = generation_data.isnull().sum()\n",
    "\n",
    "null_columns = null_counts[null_counts > 0]\n",
    "if not null_columns.empty:\n",
    "    print(\"Bu sütunlarda null değerler var:\")\n",
    "    print(null_columns)\n",
    "else:\n",
    "    print(\"Veriler arasında null değer bulunmuyor\")\n",
    "    print(null_counts)\n",
    "\n",
    "\n",
    "\n"
   ]
  },
  {
   "cell_type": "code",
   "execution_count": null,
   "id": "af4c4040",
   "metadata": {},
   "outputs": [],
   "source": []
  }
 ],
 "metadata": {
  "kernelspec": {
   "display_name": "Python (NLP)",
   "language": "python",
   "name": "nlp"
  },
  "language_info": {
   "codemirror_mode": {
    "name": "ipython",
    "version": 3
   },
   "file_extension": ".py",
   "mimetype": "text/x-python",
   "name": "python",
   "nbconvert_exporter": "python",
   "pygments_lexer": "ipython3",
   "version": "3.8.20"
  }
 },
 "nbformat": 4,
 "nbformat_minor": 5
}
